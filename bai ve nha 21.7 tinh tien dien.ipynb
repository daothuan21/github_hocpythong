{
 "cells": [
  {
   "cell_type": "code",
   "execution_count": 1,
   "id": "581a9594",
   "metadata": {},
   "outputs": [
    {
     "name": "stdout",
     "output_type": "stream",
     "text": [
      "nhap so dien ..200\n",
      "so tien cua ban la.. 402800\n"
     ]
    }
   ],
   "source": [
    "# tinh tien dien\n",
    "\n",
    "td = int(input(\"nhap so dien ..\"))\n",
    " \n",
    "c1 = 1678 # duoi 50 so\n",
    "c2 = 1734 # tu 51 den 100\n",
    "c3 = 2014 # tu 101 den 200\n",
    "c4 = 2536 #tu 201 den 300\n",
    "c5 = 2834 #tu 301 den 400\n",
    "c6 = 2927 #tu 401 tro len\n",
    "       \n",
    "# duoi 50 so  c1 1678        \n",
    "if td > 0 and td <= 50:\n",
    "    print(\"so tien cua ban la..\", td*c1)\n",
    "# tu 51 den 100 c2 1734\n",
    "elif td >50 and td <=100:\n",
    "    print(\"so tien cua ban la..\", td*c2)\n",
    "# tu 101 den 200 c3 2014\n",
    "elif td > 100 and td <= 200:\n",
    "    print(\"so tien cua ban la..\", td*c3)\n",
    "#tu 201 den 300 c4 2536\n",
    "elif td > 201 and  td <= 300:\n",
    "    print(\"so tien cua ban la..\", td*c4)\n",
    "#tu 301 den 400 c5 2834\n",
    "elif td >302 and td <=400:\n",
    "    print(\"so tien cua ban la..\", td*c5)\n",
    "#tu 401 tro len   c6 2927\n",
    "elif td >= 401:\n",
    "    print(\"so tien cua ban la..\", td*c6)\n",
    "else:\n",
    "    print(\"so khong hop le\")\n",
    "\n"
   ]
  }
 ],
 "metadata": {
  "kernelspec": {
   "display_name": "Python 3",
   "language": "python",
   "name": "python3"
  },
  "language_info": {
   "codemirror_mode": {
    "name": "ipython",
    "version": 3
   },
   "file_extension": ".py",
   "mimetype": "text/x-python",
   "name": "python",
   "nbconvert_exporter": "python",
   "pygments_lexer": "ipython3",
   "version": "3.8.8"
  }
 },
 "nbformat": 4,
 "nbformat_minor": 5
}

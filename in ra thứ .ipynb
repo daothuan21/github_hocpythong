{
 "cells": [
  {
   "cell_type": "code",
   "execution_count": 1,
   "id": "d5d5e6af",
   "metadata": {},
   "outputs": [
    {
     "name": "stdout",
     "output_type": "stream",
     "text": [
      "2021-07-23 00:33:35.170820\n",
      "hôm nay là thứ 6 \n"
     ]
    }
   ],
   "source": [
    "from datetime import datetime\n",
    "print(datetime.today())\n",
    "\n",
    "ngay = datetime.today().weekday() \n",
    "if  ngay == 0:\n",
    "    print(\"hôm nay là thứ 2 \")\n",
    "elif ngay == 1:\n",
    "    print(\"hôm nay là thứ 3 \")\n",
    "elif ngay == 2:\n",
    "    print(\"hôm nay là thứ 4 \")\n",
    "elif ngay == 3:\n",
    "    print(\"hôm nay là thứ 5\")\n",
    "elif ngay == 4:\n",
    "    print(\"hôm nay là thứ 6 \")\n",
    "elif ngay == 5:\n",
    "    print(\"hôm nay là thứ 7\")\n",
    "else: \n",
    "    print(\"hôm nay là chủ nhật\")"
   ]
  }
 ],
 "metadata": {
  "kernelspec": {
   "display_name": "Python 3",
   "language": "python",
   "name": "python3"
  },
  "language_info": {
   "codemirror_mode": {
    "name": "ipython",
    "version": 3
   },
   "file_extension": ".py",
   "mimetype": "text/x-python",
   "name": "python",
   "nbconvert_exporter": "python",
   "pygments_lexer": "ipython3",
   "version": "3.8.8"
  }
 },
 "nbformat": 4,
 "nbformat_minor": 5
}

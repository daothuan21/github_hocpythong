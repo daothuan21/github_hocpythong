{
 "cells": [
  {
   "cell_type": "code",
   "execution_count": 1,
   "id": "20a6f7dc",
   "metadata": {},
   "outputs": [
    {
     "name": "stdout",
     "output_type": "stream",
     "text": [
      "thang..2\n",
      "nam..2021\n",
      "tháng 2 có 29 ngày\n"
     ]
    }
   ],
   "source": [
    "\n",
    "b = int(input(\"thang..\"))\n",
    "c = int(input(\"nam..\"))\n",
    "\n",
    "if b==1 or b==3 or b==5 or b==7 or b==8 or b==10 or b==12:\n",
    "\n",
    "    print(\"tháng {} có 31 ngày\".format(b))\n",
    "elif b==2:\n",
    "    if c % 4 and c%100 or c%400:\n",
    "        \n",
    "        print(\"tháng {} có 29 ngày\".format(b))\n",
    "    else:\n",
    "        print(\"tháng {} có 28 ngày\".format(b))\n",
    "\n",
    "else:\n",
    "    print(\"tháng {} có 30 ngày\".format(b))\n",
    "    "
   ]
  }
 ],
 "metadata": {
  "kernelspec": {
   "display_name": "Python 3",
   "language": "python",
   "name": "python3"
  },
  "language_info": {
   "codemirror_mode": {
    "name": "ipython",
    "version": 3
   },
   "file_extension": ".py",
   "mimetype": "text/x-python",
   "name": "python",
   "nbconvert_exporter": "python",
   "pygments_lexer": "ipython3",
   "version": "3.8.8"
  }
 },
 "nbformat": 4,
 "nbformat_minor": 5
}

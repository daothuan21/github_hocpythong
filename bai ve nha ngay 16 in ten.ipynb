{
 "cells": [
  {
   "cell_type": "code",
   "execution_count": 1,
   "id": "6d40e52d",
   "metadata": {},
   "outputs": [
    {
     "name": "stdout",
     "output_type": "stream",
     "text": [
      "Dao Van Thuan\n"
     ]
    }
   ],
   "source": [
    "\n",
    "name = \"dao van tHuan\"\n",
    "name1 = name.lower().strip().split()\n",
    "a = name1[0].title()\n",
    "b = name1[1].title()\n",
    "c = name1[2].title()\n",
    "name2 = a +\" \"+ b +\" \"+ c\n",
    "\n",
    "print (name2)\n"
   ]
  }
 ],
 "metadata": {
  "kernelspec": {
   "display_name": "Python 3",
   "language": "python",
   "name": "python3"
  },
  "language_info": {
   "codemirror_mode": {
    "name": "ipython",
    "version": 3
   },
   "file_extension": ".py",
   "mimetype": "text/x-python",
   "name": "python",
   "nbconvert_exporter": "python",
   "pygments_lexer": "ipython3",
   "version": "3.8.8"
  }
 },
 "nbformat": 4,
 "nbformat_minor": 5
}

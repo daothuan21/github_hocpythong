{
 "cells": [
  {
   "cell_type": "code",
   "execution_count": 1,
   "id": "dd8889f8",
   "metadata": {},
   "outputs": [
    {
     "name": "stdout",
     "output_type": "stream",
     "text": [
      "750\n"
     ]
    }
   ],
   "source": [
    "# thư viện\n",
    "import turtle\n",
    "import math\n",
    "\n",
    "\n",
    "# Thông số vẽ\n",
    "a = 150\n",
    "b = 72\n",
    "pen_color = \"green\"\n",
    "backgroud_color = \"red\"\n",
    "\n",
    "\n",
    "t = turtle.Turtle()\n",
    "t.shape(\"turtle\")\n",
    "t.speed(1)\n",
    "t.pensize(10)\n",
    "t.fillcolor(\"blue\")\n",
    "t.pencolor(pen_color)\n",
    "\n",
    "\n",
    "\n",
    "t.begin_fill()\n",
    "t.fillcolor(backgroud_color)\n",
    "t.forward(a)\n",
    "t.left(b)\n",
    "t.forward(a)\n",
    "t.left(b)\n",
    "t.forward(a)\n",
    "t.left(b)\n",
    "t.forward(a)\n",
    "t.left(b)\n",
    "t.forward(a)\n",
    "t.left(b)\n",
    "t.end_fill()\n",
    "\n",
    "\n",
    "# Chu vi ngu giac deu\n",
    "p = a * 5\n",
    "\n",
    "print (p)\n",
    "\n",
    "\n",
    "# Dien tich ngu giac\n",
    "#s =\n",
    "\n",
    "#print (s)\n",
    "\n",
    "turtle.done()\n",
    "\n",
    "\n"
   ]
  }
 ],
 "metadata": {
  "kernelspec": {
   "display_name": "Python 3",
   "language": "python",
   "name": "python3"
  },
  "language_info": {
   "codemirror_mode": {
    "name": "ipython",
    "version": 3
   },
   "file_extension": ".py",
   "mimetype": "text/x-python",
   "name": "python",
   "nbconvert_exporter": "python",
   "pygments_lexer": "ipython3",
   "version": "3.8.8"
  }
 },
 "nbformat": 4,
 "nbformat_minor": 5
}

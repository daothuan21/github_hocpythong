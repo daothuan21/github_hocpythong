{
 "cells": [
  {
   "cell_type": "code",
   "execution_count": 1,
   "id": "d709bd00",
   "metadata": {},
   "outputs": [
    {
     "name": "stdout",
     "output_type": "stream",
     "text": [
      "450\n"
     ]
    }
   ],
   "source": [
    "# Bước 1: Import thư viện turtle\n",
    "import turtle\n",
    "\n",
    "# Bước 2: Tạo đối tượng turtle\n",
    "t = turtle.Turtle()\n",
    "t.shape(\"turtle\")\n",
    "t.pencolor('#0000ff')   #RGB\n",
    "t.pensize(10)\n",
    "t.speed(1)\n",
    "#b3\n",
    "\n",
    "a = 150\n",
    "t.forward(a)\n",
    "t.left(120)\n",
    "t.forward(a)\n",
    "t.left(120)\n",
    "t.forward(a)\n",
    "\n",
    "\n",
    "p = a * 3\n",
    "\n",
    "print(p)\n"
   ]
  }
 ],
 "metadata": {
  "kernelspec": {
   "display_name": "Python 3",
   "language": "python",
   "name": "python3"
  },
  "language_info": {
   "codemirror_mode": {
    "name": "ipython",
    "version": 3
   },
   "file_extension": ".py",
   "mimetype": "text/x-python",
   "name": "python",
   "nbconvert_exporter": "python",
   "pygments_lexer": "ipython3",
   "version": "3.8.8"
  }
 },
 "nbformat": 4,
 "nbformat_minor": 5
}

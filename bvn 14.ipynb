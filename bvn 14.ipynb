{
 "cells": [
  {
   "cell_type": "code",
   "execution_count": 1,
   "id": "63980282",
   "metadata": {
    "scrolled": true
   },
   "outputs": [
    {
     "name": "stdout",
     "output_type": "stream",
     "text": [
      "toa do a x = :30\n",
      "toa do a y =:80\n",
      "toa do b x =:200\n",
      "toa do b y =:80\n",
      "toa do c x =:180\n",
      "toa do c y =:20\n",
      "toa do diem d la.. (10.0,20.0)\n",
      "chu vi 466.4911064067352 2\n",
      "mau hinh binh hanh la...blue\n"
     ]
    }
   ],
   "source": [
    "import math\n",
    "import turtle\n",
    "\n",
    "\n",
    "ax = int(input(\"toa do a x = :\"))\n",
    "ay = int(input(\"toa do a y =:\"))\n",
    "\n",
    "bx = int(input(\"toa do b x =:\"))\n",
    "by = int(input(\"toa do b y =:\"))\n",
    "\n",
    "cx = int(input(\"toa do c x =:\"))\n",
    "cy = int(input(\"toa do c y =:\"))\n",
    "\n",
    "#toa do tam\n",
    "x = (ax +cx)/2  \n",
    "y = (ay +cy)/2\n",
    "\n",
    "\n",
    "\n",
    "dx = 2*x - bx\n",
    "dy =2*y - by\n",
    "print(\"toa do diem d la.. ({x},{y})\".format(y =dy,x =dx))\n",
    "\n",
    "\n",
    "# cv\n",
    "ab = bx-ax\n",
    "#bc=ay-cy\n",
    "bc = math.sqrt(pow(cx-bx,2)+pow(cy-by,2))\n",
    "p = 2*(ab+bc)\n",
    "\n",
    "print(\"chu vi\", p,2)\n",
    "#print(\"chu vi\",p)\n",
    "color = input(\"mau hinh binh hanh la...\")\n",
    "t = turtle.Turtle()\n",
    "t.pensize(10)\n",
    "t.speed(1)\n",
    "t.color(color)\n",
    "\n",
    "\n",
    "\n",
    "# Ve\n",
    "t.pu()\n",
    "t.goto(ax,ay)\n",
    "t.pendown()\n",
    "t.goto(bx,by)\n",
    "t.goto(cx,cy)\n",
    "t.goto(dx,dy)\n",
    "t.goto(ax,ay)\n",
    "turtle.done()"
   ]
  }
 ],
 "metadata": {
  "kernelspec": {
   "display_name": "Python 3",
   "language": "python",
   "name": "python3"
  },
  "language_info": {
   "codemirror_mode": {
    "name": "ipython",
    "version": 3
   },
   "file_extension": ".py",
   "mimetype": "text/x-python",
   "name": "python",
   "nbconvert_exporter": "python",
   "pygments_lexer": "ipython3",
   "version": "3.8.8"
  }
 },
 "nbformat": 4,
 "nbformat_minor": 5
}

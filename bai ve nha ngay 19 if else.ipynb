{
 "cells": [
  {
   "cell_type": "code",
   "execution_count": 1,
   "id": "59354d67",
   "metadata": {},
   "outputs": [
    {
     "name": "stdout",
     "output_type": "stream",
     "text": [
      "a = -1\n",
      "b = 2\n",
      "c = 3\n",
      "x^2+2x+3\n"
     ]
    }
   ],
   "source": [
    "#   ax^2 + bx + c = 0\n",
    "\n",
    "a = int(input(\"a = \")) \n",
    "b = int(input(\"b = \"))\n",
    "c = int(input(\"c = \"))\n",
    "\n",
    "\n",
    "if a==0: #neu a = 0 thi a1 trong\n",
    "    a1==\"\"\n",
    "else:\n",
    "    if a==1: # neu a =1 thi in x^2\n",
    "        a1=\"x^2\"\n",
    "    else:\n",
    "        if a==-1: # neu a= -1 thi in x^2\n",
    "            a1=\"x^2\"\n",
    "        else:\n",
    "            if a>1:  # neu a lon hon 1, dat a la 1 chuoi roi in chuoi a2 + voi x^2\n",
    "                a2=str(a)\n",
    "                a1=a2+\"x^2\"\n",
    "                \n",
    "if b==0:  # b,c lam tuong tu nhu a\n",
    "    b1==\"\"\n",
    "else:\n",
    "    if b==1:\n",
    "        b1=\"x^2\"\n",
    "    else:\n",
    "        if b==-1:\n",
    "            b1=\"x^2\"\n",
    "        else:\n",
    "            if b>1:\n",
    "                b2=str(b)\n",
    "                b1=\"+\"+b2+\"x\"\n",
    "\n",
    "                \n",
    "if c==0:\n",
    "    b1==\"\"\n",
    "else:\n",
    "    if c==1:\n",
    "        c1=\"x^2\"\n",
    "    else:\n",
    "        if c==-1:\n",
    "            c1=\"x^2\"\n",
    "        else:\n",
    "            if c>1:\n",
    "                c2=str(c)\n",
    "                c1= \"+\"+c2\n",
    "p=a1+b1+c1 # dat bien p de thuc hien phep toan\n",
    "print(\"{0}\".format(p)) # in ra p\n",
    "\n"
   ]
  }
 ],
 "metadata": {
  "kernelspec": {
   "display_name": "Python 3",
   "language": "python",
   "name": "python3"
  },
  "language_info": {
   "codemirror_mode": {
    "name": "ipython",
    "version": 3
   },
   "file_extension": ".py",
   "mimetype": "text/x-python",
   "name": "python",
   "nbconvert_exporter": "python",
   "pygments_lexer": "ipython3",
   "version": "3.8.8"
  }
 },
 "nbformat": 4,
 "nbformat_minor": 5
}

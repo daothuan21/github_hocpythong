{
 "cells": [
  {
   "cell_type": "code",
   "execution_count": 1,
   "id": "915d9a53",
   "metadata": {},
   "outputs": [],
   "source": [
    "import turtle\n",
    "\n",
    "t = turtle.Turtle()\n",
    "t.shape(\"turtle\")\n",
    "t.speed(1)\n",
    "\n",
    "\n",
    "import math\n",
    "\n",
    "a = 150\n",
    "b = 72\n",
    "\n",
    "t.forward(a)\n",
    "t.left(b)\n",
    "t.forward(a)\n",
    "t.left(b)\n",
    "t.forward(a)\n",
    "t.left(b)\n",
    "t.forward(a)\n",
    "t.left(b)\n",
    "t.forward(a)\n",
    "turtle.done()\n"
   ]
  }
 ],
 "metadata": {
  "kernelspec": {
   "display_name": "Python 3",
   "language": "python",
   "name": "python3"
  },
  "language_info": {
   "codemirror_mode": {
    "name": "ipython",
    "version": 3
   },
   "file_extension": ".py",
   "mimetype": "text/x-python",
   "name": "python",
   "nbconvert_exporter": "python",
   "pygments_lexer": "ipython3",
   "version": "3.8.8"
  }
 },
 "nbformat": 4,
 "nbformat_minor": 5
}

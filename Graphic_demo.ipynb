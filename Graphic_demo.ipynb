{
 "cells": [
  {
   "cell_type": "code",
   "execution_count": 2,
   "id": "01d05306",
   "metadata": {},
   "outputs": [],
   "source": [
    "# Bước 1: Import thư viện turtle\n",
    "import turtle\n",
    "\n",
    "# Bước 2: Tạo đối tượng turtle\n",
    "t = turtle.Turtle()\n",
    "t.shape(\"turtle\")\n",
    "#t.pencolor('#0000ff')   #RGB\n",
    "t.pensize(10)\n",
    "t.speed(1)\n",
    "#t.pencolor(pen_color)\n",
    "#a = 110\n",
    "#pen_color = \"blue\"\n",
    "#background_color - \"red\"\n",
    "\n",
    "\n",
    "# Bước 3: Vẽ\n",
    "t.begin_fill()\n",
    "t.fillcolor('red')\n",
    "t.forward(150)\n",
    "t.left(70)\n",
    "t.forward(150)\n",
    "t.left(90)\n",
    "t.forward(130)\n",
    "t.left(40)\n",
    "t.forward(120)\n",
    "t.left(82)\n",
    "t.forward(145)\n",
    "t.left(70)\n",
    "t.end_fill()\n",
    "#buớc 4: Hoàn thành vẽ\n",
    "turtle.done()\n"
   ]
  }
 ],
 "metadata": {
  "kernelspec": {
   "display_name": "Python 3",
   "language": "python",
   "name": "python3"
  },
  "language_info": {
   "codemirror_mode": {
    "name": "ipython",
    "version": 3
   },
   "file_extension": ".py",
   "mimetype": "text/x-python",
   "name": "python",
   "nbconvert_exporter": "python",
   "pygments_lexer": "ipython3",
   "version": "3.8.8"
  }
 },
 "nbformat": 4,
 "nbformat_minor": 5
}

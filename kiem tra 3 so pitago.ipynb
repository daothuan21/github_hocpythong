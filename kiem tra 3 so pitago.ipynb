{
 "cells": [
  {
   "cell_type": "code",
   "execution_count": 1,
   "id": "fd83ee9b",
   "metadata": {},
   "outputs": [
    {
     "name": "stdout",
     "output_type": "stream",
     "text": [
      "nhap a3\n",
      "nhap b4\n",
      "nhap c5\n",
      "day la so pitago\n"
     ]
    }
   ],
   "source": [
    "a = int(input(\"nhap a\"))\n",
    "b = int(input(\"nhap b\"))\n",
    "c = int(input(\"nhap c\"))\n",
    "\n",
    "if a*a==b*b+c*c or b*b==a*a+c*c or c*c==a*a+b*b:\n",
    "    print(\"day la so pitago\")\n",
    "else:\n",
    "    print(\"day khong phai so pitago\")"
   ]
  }
 ],
 "metadata": {
  "kernelspec": {
   "display_name": "Python 3",
   "language": "python",
   "name": "python3"
  },
  "language_info": {
   "codemirror_mode": {
    "name": "ipython",
    "version": 3
   },
   "file_extension": ".py",
   "mimetype": "text/x-python",
   "name": "python",
   "nbconvert_exporter": "python",
   "pygments_lexer": "ipython3",
   "version": "3.8.8"
  }
 },
 "nbformat": 4,
 "nbformat_minor": 5
}

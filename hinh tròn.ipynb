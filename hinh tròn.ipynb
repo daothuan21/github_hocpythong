{
 "cells": [
  {
   "cell_type": "code",
   "execution_count": 1,
   "id": "4fc343d6",
   "metadata": {},
   "outputs": [
    {
     "name": "stdout",
     "output_type": "stream",
     "text": [
      "628.3185307179587\n"
     ]
    }
   ],
   "source": [
    "import turtle\n",
    "import math\n",
    "\n",
    "\n",
    "\n",
    "t = turtle.Turtle()\n",
    "t.shape(\"turtle\")\n",
    "#t.pencolor('#0000ff')   #RGB\n",
    "#t.pensize(10)\n",
    "t.speed(1)\n",
    "\n",
    "\n",
    "\n",
    "turtle.circle (100)\n",
    "r = 100\n",
    "s = math.pi * r*2\n",
    "print (s)\n",
    "turtle.done()"
   ]
  }
 ],
 "metadata": {
  "kernelspec": {
   "display_name": "Python 3",
   "language": "python",
   "name": "python3"
  },
  "language_info": {
   "codemirror_mode": {
    "name": "ipython",
    "version": 3
   },
   "file_extension": ".py",
   "mimetype": "text/x-python",
   "name": "python",
   "nbconvert_exporter": "python",
   "pygments_lexer": "ipython3",
   "version": "3.8.8"
  }
 },
 "nbformat": 4,
 "nbformat_minor": 5
}
